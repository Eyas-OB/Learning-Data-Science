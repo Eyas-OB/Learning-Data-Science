{
 "cells": [
  {
   "cell_type": "markdown",
   "metadata": {},
   "source": [
    "# Using functions to clean data \n",
    "being able to use functions on dataframes will be important for large scale data cleaning"
   ]
  },
  {
   "cell_type": "code",
   "execution_count": 52,
   "metadata": {},
   "outputs": [],
   "source": [
    "#we will need the same imports \n",
    "import pandas as pd \n",
    "import matplotlib.pyplot as plt "
   ]
  },
  {
   "cell_type": "code",
   "execution_count": 53,
   "metadata": {},
   "outputs": [
    {
     "name": "stdout",
     "output_type": "stream",
     "text": [
      "<class 'pandas.core.frame.DataFrame'>\n",
      "RangeIndex: 16 entries, 0 to 15\n",
      "Data columns (total 16 columns):\n",
      " #   Column                        Non-Null Count  Dtype  \n",
      "---  ------                        --------------  -----  \n",
      " 0   year                          16 non-null     int64  \n",
      " 1   EBITDA (millions)             16 non-null     object \n",
      " 2   Revenue (millions)            16 non-null     object \n",
      " 3   Gross Profit (millions)       16 non-null     object \n",
      " 4   Op Income (millions)          16 non-null     object \n",
      " 5   Net Income (millions)         16 non-null     object \n",
      " 6   EPS                           16 non-null     object \n",
      " 7   Shares Outstanding            16 non-null     object \n",
      " 8   Year Close Price              16 non-null     float64\n",
      " 9   Total Assets (millions)       16 non-null     object \n",
      " 10  Cash on Hand (millions)       16 non-null     object \n",
      " 11  Long Term Debt (millions)     16 non-null     object \n",
      " 12  Total Liabilities (millions)  16 non-null     object \n",
      " 13  Gross Margin                  16 non-null     object \n",
      " 14  PE ratio                      16 non-null     float64\n",
      " 15  Employees                     16 non-null     object \n",
      "dtypes: float64(2), int64(1), object(13)\n",
      "memory usage: 2.1+ KB\n"
     ]
    }
   ],
   "source": [
    "df = pd.read_csv(r'data/Apple 2009-2024.csv')\n",
    "df.info()"
   ]
  },
  {
   "cell_type": "code",
   "execution_count": 54,
   "metadata": {},
   "outputs": [
    {
     "name": "stderr",
     "output_type": "stream",
     "text": [
      "<>:10: SyntaxWarning: invalid escape sequence '\\$'\n",
      "<>:10: SyntaxWarning: invalid escape sequence '\\$'\n",
      "C:\\Users\\eyas1\\AppData\\Local\\Temp\\ipykernel_30692\\2840190169.py:10: SyntaxWarning: invalid escape sequence '\\$'\n",
      "  df[colName] = df[colName].replace({'\\$':'',',':'','%':''},regex = True)\n"
     ]
    }
   ],
   "source": [
    "#in the change type notebook we observed that many of the data types are objects and they are all\n",
    "#populated with \"$\" and \",\" instead of running the same commands over and over we can use a function to \n",
    "# make the data cleaning proccess go faster \n",
    "\n",
    "# first lets define a function \n",
    "# this function replaces all of the $ and , with empty strings \n",
    "# and then we are able to convert the data into a int \n",
    "#turning the data into an int will make it easier to work with later \n",
    "def colToInt(df,colName):\n",
    "    df[colName] = df[colName].replace({'\\$':'',',':'','%':''},regex = True)\n",
    "    df[colName] = df[colName].astype(int)\n",
    "    return df\n"
   ]
  },
  {
   "cell_type": "code",
   "execution_count": 55,
   "metadata": {},
   "outputs": [
    {
     "data": {
      "text/plain": [
       "0      85750\n",
       "1      95281\n",
       "2      98959\n",
       "3     109106\n",
       "4      98667\n",
       "5      91807\n",
       "6      93735\n",
       "7      97207\n",
       "8      75427\n",
       "9      53329\n",
       "10     28987\n",
       "11     16960\n",
       "12         0\n",
       "13         0\n",
       "14         0\n",
       "15         0\n",
       "Name: Long Term Debt (millions), dtype: int64"
      ]
     },
     "execution_count": 55,
     "metadata": {},
     "output_type": "execute_result"
    }
   ],
   "source": [
    "#lets call the function \n",
    "colToInt(df=clean_df, colName='Long Term Debt (millions)')\n",
    "\n",
    "#then lets run the output here to see if we did the right stuff\n",
    "clean_df['Long Term Debt (millions)']\n"
   ]
  },
  {
   "cell_type": "code",
   "execution_count": 64,
   "metadata": {},
   "outputs": [
    {
     "data": {
      "text/plain": [
       "<bound method NDFrame.head of     year  EBITDA (millions)  Revenue (millions)  Gross Profit (millions)  \\\n",
       "0   2024             134661              391035                   180683   \n",
       "1   2023             125820              383285                   169148   \n",
       "2   2022             130541              394328                   170782   \n",
       "3   2021             120233              365817                   152836   \n",
       "4   2020              77344              274515                   104956   \n",
       "5   2019              76477              260174                    98392   \n",
       "6   2018              81801              265595                   101839   \n",
       "7   2017              71501              229234                    88186   \n",
       "8   2016              70529              215639                    84263   \n",
       "9   2015              82487              233715                    93626   \n",
       "10  2014              60449              182795                    70537   \n",
       "11  2013              55756              170910                    64304   \n",
       "12  2012              58518              156508                    68662   \n",
       "13  2011              35604              108249                    43818   \n",
       "14  2010              19412               65225                    25684   \n",
       "15  2009              12474               42905                    17222   \n",
       "\n",
       "    Op Income (millions)  Net Income (millions)   EPS  Shares Outstanding  \\\n",
       "0                 123216                  93736  6.08               15408   \n",
       "1                 114301                  96995  6.13               15813   \n",
       "2                 119437                  99803  6.11               16326   \n",
       "3                 108949                  94680  5.61               16865   \n",
       "4                  66288                  57411  3.28               17528   \n",
       "5                  63930                  55256  2.97               18596   \n",
       "6                  70898                  59531  2.98               20000   \n",
       "7                  61344                  48351  2.30               21007   \n",
       "8                  60024                  45687  2.08               22001   \n",
       "9                  71230                  53394  2.31               23172   \n",
       "10                 52503                  39510  1.61               24491   \n",
       "11                 48999                  37037  1.42               26087   \n",
       "12                 55241                  41733  1.58               26470   \n",
       "13                 33790                  25922  0.99               26226   \n",
       "14                 18385                  14013  0.54               25892   \n",
       "15                 11740                   8235  0.32               25396   \n",
       "\n",
       "    Year Close Price  Total Assets (millions)  Cash on Hand (millions)  \\\n",
       "0           243.0400                   364980                    65171   \n",
       "1           191.5919                   352583                    61555   \n",
       "2           128.5816                   352755                    48304   \n",
       "3           174.7132                   351002                    62639   \n",
       "4           129.7556                   323888                    90943   \n",
       "5            71.1734                   338516                   100557   \n",
       "6            37.6645                   365725                    66301   \n",
       "7            39.8109                   375319                    74181   \n",
       "8            26.8131                   321686                    67155   \n",
       "9            23.8379                   290345                    41601   \n",
       "10           24.5797                   231839                    25077   \n",
       "11           17.4799                   207000                    40546   \n",
       "12           16.1760                   176064                    29129   \n",
       "13           12.2002                   116371                    25952   \n",
       "14            9.7168                    75183                    25620   \n",
       "15            6.3481                    47501                    23464   \n",
       "\n",
       "    Long Term Debt (millions)  Total Liabilities (millions)  Gross Margin  \\\n",
       "0                       85750                        308030         46.21   \n",
       "1                       95281                        290437         45.03   \n",
       "2                       98959                        302083         43.06   \n",
       "3                      109106                        287912         43.02   \n",
       "4                       98667                        258549         38.78   \n",
       "5                       91807                        248028         37.95   \n",
       "6                       93735                        258578         38.21   \n",
       "7                       97207                        241272         38.43   \n",
       "8                       75427                        193437         38.52   \n",
       "9                       53329                        170990         40.13   \n",
       "10                      28987                        120292         39.26   \n",
       "11                      16960                         83451         37.41   \n",
       "12                          0                         57854         41.91   \n",
       "13                          0                         39756         42.41   \n",
       "14                          0                         27392         38.76   \n",
       "15                          0                         15861         40.95   \n",
       "\n",
       "    PE ratio  Employees  \n",
       "0      39.97     164000  \n",
       "1      29.84     161000  \n",
       "2      21.83     164000  \n",
       "3      28.93     154000  \n",
       "4      35.14     147000  \n",
       "5      22.49     137000  \n",
       "6      12.39     132000  \n",
       "7      16.37     123000  \n",
       "8      12.84     116000  \n",
       "9      10.12     110000  \n",
       "10     13.25      97000  \n",
       "11     12.14      84400  \n",
       "12     10.27      76100  \n",
       "13      9.73      63300  \n",
       "14     15.19      49400  \n",
       "15     20.52      36800  >"
      ]
     },
     "execution_count": 64,
     "metadata": {},
     "output_type": "execute_result"
    }
   ],
   "source": [
    "#lets clean some more col's to see if the function actually works \n",
    "# first lets look at the stata of our df \n",
    "clean_df.head"
   ]
  },
  {
   "cell_type": "code",
   "execution_count": 57,
   "metadata": {},
   "outputs": [
    {
     "name": "stdout",
     "output_type": "stream",
     "text": [
      "<class 'pandas.core.frame.DataFrame'>\n",
      "RangeIndex: 16 entries, 0 to 15\n",
      "Data columns (total 16 columns):\n",
      " #   Column                        Non-Null Count  Dtype  \n",
      "---  ------                        --------------  -----  \n",
      " 0   year                          16 non-null     int64  \n",
      " 1   EBITDA (millions)             16 non-null     int64  \n",
      " 2   Revenue (millions)            16 non-null     int64  \n",
      " 3   Gross Profit (millions)       16 non-null     int64  \n",
      " 4   Op Income (millions)          16 non-null     int64  \n",
      " 5   Net Income (millions)         16 non-null     int64  \n",
      " 6   EPS                           16 non-null     object \n",
      " 7   Shares Outstanding            16 non-null     object \n",
      " 8   Year Close Price              16 non-null     float64\n",
      " 9   Total Assets (millions)       16 non-null     object \n",
      " 10  Cash on Hand (millions)       16 non-null     object \n",
      " 11  Long Term Debt (millions)     16 non-null     int64  \n",
      " 12  Total Liabilities (millions)  16 non-null     object \n",
      " 13  Gross Margin                  16 non-null     object \n",
      " 14  PE ratio                      16 non-null     float64\n",
      " 15  Employees                     16 non-null     object \n",
      "dtypes: float64(2), int64(7), object(7)\n",
      "memory usage: 2.1+ KB\n"
     ]
    }
   ],
   "source": [
    "clean_df.info()"
   ]
  },
  {
   "cell_type": "code",
   "execution_count": 62,
   "metadata": {},
   "outputs": [],
   "source": [
    "# we can see that our method works because we now see that the longterm debt varable is now an int\n",
    "# now we can do it with the other col's \n",
    "\n",
    "# a fast way to clean all of this data is t0 use a for loop to go through each col and clean it \n",
    "intsNeeded = ['EBITDA (millions)','Revenue (millions)','Gross Profit (millions)','Op Income (millions)',\n",
    "'Net Income (millions)','Shares Outstanding','Total Assets (millions)','Cash on Hand (millions)',\n",
    "'Total Liabilities (millions)','Employees']\n",
    "\n",
    "#we can run our function on the array to clean the entire dataset without calling \n",
    "#the function a billion times \n",
    "for cols in intsNeeded:\n",
    "    colToInt(clean_df,cols)\n",
    "\n",
    "clean_df['EPS'] = clean_df['EPS'].astype(float)\n",
    "clean_df['Gross Margin'] = clean_df['Gross Margin'].astype(float)\n",
    "\n",
    "    \n",
    "\n"
   ]
  },
  {
   "cell_type": "code",
   "execution_count": 63,
   "metadata": {},
   "outputs": [
    {
     "name": "stdout",
     "output_type": "stream",
     "text": [
      "<class 'pandas.core.frame.DataFrame'>\n",
      "RangeIndex: 16 entries, 0 to 15\n",
      "Data columns (total 16 columns):\n",
      " #   Column                        Non-Null Count  Dtype  \n",
      "---  ------                        --------------  -----  \n",
      " 0   year                          16 non-null     int64  \n",
      " 1   EBITDA (millions)             16 non-null     int64  \n",
      " 2   Revenue (millions)            16 non-null     int64  \n",
      " 3   Gross Profit (millions)       16 non-null     int64  \n",
      " 4   Op Income (millions)          16 non-null     int64  \n",
      " 5   Net Income (millions)         16 non-null     int64  \n",
      " 6   EPS                           16 non-null     float64\n",
      " 7   Shares Outstanding            16 non-null     int64  \n",
      " 8   Year Close Price              16 non-null     float64\n",
      " 9   Total Assets (millions)       16 non-null     int64  \n",
      " 10  Cash on Hand (millions)       16 non-null     int64  \n",
      " 11  Long Term Debt (millions)     16 non-null     int64  \n",
      " 12  Total Liabilities (millions)  16 non-null     int64  \n",
      " 13  Gross Margin                  16 non-null     float64\n",
      " 14  PE ratio                      16 non-null     float64\n",
      " 15  Employees                     16 non-null     int64  \n",
      "dtypes: float64(4), int64(12)\n",
      "memory usage: 2.1 KB\n"
     ]
    }
   ],
   "source": [
    "clean_df.info()"
   ]
  }
 ],
 "metadata": {
  "kernelspec": {
   "display_name": "myenv",
   "language": "python",
   "name": "python3"
  },
  "language_info": {
   "codemirror_mode": {
    "name": "ipython",
    "version": 3
   },
   "file_extension": ".py",
   "mimetype": "text/x-python",
   "name": "python",
   "nbconvert_exporter": "python",
   "pygments_lexer": "ipython3",
   "version": "3.12.6"
  }
 },
 "nbformat": 4,
 "nbformat_minor": 2
}

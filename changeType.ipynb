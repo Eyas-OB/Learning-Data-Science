{
 "cells": [
  {
   "cell_type": "markdown",
   "metadata": {},
   "source": [
    "# how to change the type of a col using pandas\n"
   ]
  },
  {
   "cell_type": "code",
   "execution_count": 1,
   "metadata": {},
   "outputs": [],
   "source": [
    "#for this example we will be using pandas to read and change our data \n",
    "#and we will be using matplotlib ans seaborn to visualize our data\n",
    "import pandas as pd\n",
    "import matplotlib.pyplot as plt \n",
    "import seaborn as sns"
   ]
  },
  {
   "cell_type": "code",
   "execution_count": null,
   "metadata": {},
   "outputs": [
    {
     "data": {
      "text/html": [
       "<div>\n",
       "<style scoped>\n",
       "    .dataframe tbody tr th:only-of-type {\n",
       "        vertical-align: middle;\n",
       "    }\n",
       "\n",
       "    .dataframe tbody tr th {\n",
       "        vertical-align: top;\n",
       "    }\n",
       "\n",
       "    .dataframe thead th {\n",
       "        text-align: right;\n",
       "    }\n",
       "</style>\n",
       "<table border=\"1\" class=\"dataframe\">\n",
       "  <thead>\n",
       "    <tr style=\"text-align: right;\">\n",
       "      <th></th>\n",
       "      <th>year</th>\n",
       "      <th>EBITDA (millions)</th>\n",
       "      <th>Revenue (millions)</th>\n",
       "      <th>Gross Profit (millions)</th>\n",
       "      <th>Op Income (millions)</th>\n",
       "      <th>Net Income (millions)</th>\n",
       "      <th>EPS</th>\n",
       "      <th>Shares Outstanding</th>\n",
       "      <th>Year Close Price</th>\n",
       "      <th>Total Assets (millions)</th>\n",
       "      <th>Cash on Hand (millions)</th>\n",
       "      <th>Long Term Debt (millions)</th>\n",
       "      <th>Total Liabilities (millions)</th>\n",
       "      <th>Gross Margin</th>\n",
       "      <th>PE ratio</th>\n",
       "      <th>Employees</th>\n",
       "    </tr>\n",
       "  </thead>\n",
       "  <tbody>\n",
       "    <tr>\n",
       "      <th>0</th>\n",
       "      <td>2024</td>\n",
       "      <td>$134,661</td>\n",
       "      <td>$391,035</td>\n",
       "      <td>$180,683</td>\n",
       "      <td>$123,216</td>\n",
       "      <td>$93,736</td>\n",
       "      <td>$6.08</td>\n",
       "      <td>15,408</td>\n",
       "      <td>243.0400</td>\n",
       "      <td>$364,980</td>\n",
       "      <td>$65,171</td>\n",
       "      <td>$85,750</td>\n",
       "      <td>$308,030</td>\n",
       "      <td>46.21%</td>\n",
       "      <td>39.97</td>\n",
       "      <td>164,000</td>\n",
       "    </tr>\n",
       "    <tr>\n",
       "      <th>1</th>\n",
       "      <td>2023</td>\n",
       "      <td>$125,820</td>\n",
       "      <td>$383,285</td>\n",
       "      <td>$169,148</td>\n",
       "      <td>$114,301</td>\n",
       "      <td>$96,995</td>\n",
       "      <td>$6.13</td>\n",
       "      <td>15,813</td>\n",
       "      <td>191.5919</td>\n",
       "      <td>$352,583</td>\n",
       "      <td>$61,555</td>\n",
       "      <td>$95,281</td>\n",
       "      <td>$290,437</td>\n",
       "      <td>45.03%</td>\n",
       "      <td>29.84</td>\n",
       "      <td>161,000</td>\n",
       "    </tr>\n",
       "    <tr>\n",
       "      <th>2</th>\n",
       "      <td>2022</td>\n",
       "      <td>$130,541</td>\n",
       "      <td>$394,328</td>\n",
       "      <td>$170,782</td>\n",
       "      <td>$119,437</td>\n",
       "      <td>$99,803</td>\n",
       "      <td>$6.11</td>\n",
       "      <td>16,326</td>\n",
       "      <td>128.5816</td>\n",
       "      <td>$352,755</td>\n",
       "      <td>$48,304</td>\n",
       "      <td>$98,959</td>\n",
       "      <td>$302,083</td>\n",
       "      <td>43.06%</td>\n",
       "      <td>21.83</td>\n",
       "      <td>164,000</td>\n",
       "    </tr>\n",
       "    <tr>\n",
       "      <th>3</th>\n",
       "      <td>2021</td>\n",
       "      <td>$120,233</td>\n",
       "      <td>$365,817</td>\n",
       "      <td>$152,836</td>\n",
       "      <td>$108,949</td>\n",
       "      <td>$94,680</td>\n",
       "      <td>$5.61</td>\n",
       "      <td>16,865</td>\n",
       "      <td>174.7132</td>\n",
       "      <td>$351,002</td>\n",
       "      <td>$62,639</td>\n",
       "      <td>$109,106</td>\n",
       "      <td>$287,912</td>\n",
       "      <td>43.02%</td>\n",
       "      <td>28.93</td>\n",
       "      <td>154,000</td>\n",
       "    </tr>\n",
       "    <tr>\n",
       "      <th>4</th>\n",
       "      <td>2020</td>\n",
       "      <td>$77,344</td>\n",
       "      <td>$274,515</td>\n",
       "      <td>$104,956</td>\n",
       "      <td>$66,288</td>\n",
       "      <td>$57,411</td>\n",
       "      <td>$3.28</td>\n",
       "      <td>17,528</td>\n",
       "      <td>129.7556</td>\n",
       "      <td>$323,888</td>\n",
       "      <td>$90,943</td>\n",
       "      <td>$98,667</td>\n",
       "      <td>$258,549</td>\n",
       "      <td>38.78%</td>\n",
       "      <td>35.14</td>\n",
       "      <td>147,000</td>\n",
       "    </tr>\n",
       "  </tbody>\n",
       "</table>\n",
       "</div>"
      ],
      "text/plain": [
       "   year EBITDA (millions) Revenue (millions) Gross Profit (millions)  \\\n",
       "0  2024          $134,661           $391,035                $180,683   \n",
       "1  2023          $125,820           $383,285                $169,148   \n",
       "2  2022          $130,541           $394,328                $170,782   \n",
       "3  2021          $120,233           $365,817                $152,836   \n",
       "4  2020           $77,344           $274,515                $104,956   \n",
       "\n",
       "  Op Income (millions) Net Income (millions)    EPS Shares Outstanding  \\\n",
       "0             $123,216               $93,736  $6.08             15,408   \n",
       "1             $114,301               $96,995  $6.13             15,813   \n",
       "2             $119,437               $99,803  $6.11             16,326   \n",
       "3             $108,949               $94,680  $5.61             16,865   \n",
       "4              $66,288               $57,411  $3.28             17,528   \n",
       "\n",
       "   Year Close Price Total Assets (millions) Cash on Hand (millions)  \\\n",
       "0          243.0400                $364,980                 $65,171   \n",
       "1          191.5919                $352,583                 $61,555   \n",
       "2          128.5816                $352,755                 $48,304   \n",
       "3          174.7132                $351,002                 $62,639   \n",
       "4          129.7556                $323,888                 $90,943   \n",
       "\n",
       "  Long Term Debt (millions) Total Liabilities (millions) Gross Margin  \\\n",
       "0                   $85,750                     $308,030       46.21%   \n",
       "1                   $95,281                     $290,437       45.03%   \n",
       "2                   $98,959                     $302,083       43.06%   \n",
       "3                  $109,106                     $287,912       43.02%   \n",
       "4                   $98,667                     $258,549       38.78%   \n",
       "\n",
       "   PE ratio Employees  \n",
       "0     39.97   164,000  \n",
       "1     29.84   161,000  \n",
       "2     21.83   164,000  \n",
       "3     28.93   154,000  \n",
       "4     35.14   147,000  "
      ]
     },
     "execution_count": 2,
     "metadata": {},
     "output_type": "execute_result"
    }
   ],
   "source": [
    "#our first step is to read our object in to pandas\n",
    "df = pd.read_csv(r'data\\Apple 2009-2024.csv')\n",
    "\n",
    "#lets check if the data looks right to us \n",
    "df.head"
   ]
  },
  {
   "cell_type": "code",
   "execution_count": 3,
   "metadata": {},
   "outputs": [
    {
     "data": {
      "text/plain": [
       "0     $391,035\n",
       "1     $383,285\n",
       "2     $394,328\n",
       "3     $365,817\n",
       "4     $274,515\n",
       "5     $260,174\n",
       "6     $265,595\n",
       "7     $229,234\n",
       "8     $215,639\n",
       "9     $233,715\n",
       "10    $182,795\n",
       "11    $170,910\n",
       "12    $156,508\n",
       "13    $108,249\n",
       "14     $65,225\n",
       "15     $42,905\n",
       "Name: Revenue (millions), dtype: object"
      ]
     },
     "execution_count": 3,
     "metadata": {},
     "output_type": "execute_result"
    }
   ],
   "source": [
    "# the data looks right to us so lets do some exploring of this data\n",
    "# lets print our a col of this data\n",
    "df['Revenue (millions)']"
   ]
  },
  {
   "cell_type": "code",
   "execution_count": 4,
   "metadata": {},
   "outputs": [
    {
     "data": {
      "text/plain": [
       "'$65,225'"
      ]
     },
     "execution_count": 4,
     "metadata": {},
     "output_type": "execute_result"
    }
   ],
   "source": [
    "#thats strange the revenue is type object lets see if we can find a max value\n",
    "df['Revenue (millions)'].max()"
   ]
  },
  {
   "cell_type": "code",
   "execution_count": 5,
   "metadata": {},
   "outputs": [
    {
     "name": "stderr",
     "output_type": "stream",
     "text": [
      "<>:12: SyntaxWarning: invalid escape sequence '\\$'\n",
      "<>:12: SyntaxWarning: invalid escape sequence '\\$'\n",
      "C:\\Users\\eyas1\\AppData\\Local\\Temp\\ipykernel_11340\\1419137473.py:12: SyntaxWarning: invalid escape sequence '\\$'\n",
      "  clean_df['Revenue (millions)'] = clean_df['Revenue (millions)'].replace({'\\$':'',',':''},regex = True)\n"
     ]
    },
    {
     "data": {
      "text/plain": [
       "0     391035\n",
       "1     383285\n",
       "2     394328\n",
       "3     365817\n",
       "4     274515\n",
       "5     260174\n",
       "6     265595\n",
       "7     229234\n",
       "8     215639\n",
       "9     233715\n",
       "10    182795\n",
       "11    170910\n",
       "12    156508\n",
       "13    108249\n",
       "14     65225\n",
       "15     42905\n",
       "Name: Revenue (millions), dtype: object"
      ]
     },
     "execution_count": 5,
     "metadata": {},
     "output_type": "execute_result"
    }
   ],
   "source": [
    "#it says our max is 65,225 which is not correct so it looks like these values arent being read in as ints\n",
    "# we can make simple change to clean the data \n",
    "\n",
    "#im going to make a new varable to hold the df in so the orignal df does not get changed\n",
    "clean_df = df\n",
    "\n",
    "# in this line of code we are using the replace function to get rid of the $ and the , from the col\n",
    "# we are doing this because if we change our col to an int we wont be able to reconize \"numbers\"\n",
    "# with a $ or a , in them \n",
    "# we need to set \"regex\" or regular expression to true in this case because the $ sign can be interperted\n",
    "# as a command in python so we need to include the \\ before the $ to idicate that we are using the $\n",
    "clean_df['Revenue (millions)'] = clean_df['Revenue (millions)'].replace({'\\$':'',',':''},regex = True)\n",
    "\n",
    "#lets see what our col looks like now \n",
    "clean_df['Revenue (millions)']"
   ]
  },
  {
   "cell_type": "code",
   "execution_count": 6,
   "metadata": {},
   "outputs": [
    {
     "data": {
      "text/plain": [
       "0     391035\n",
       "1     383285\n",
       "2     394328\n",
       "3     365817\n",
       "4     274515\n",
       "5     260174\n",
       "6     265595\n",
       "7     229234\n",
       "8     215639\n",
       "9     233715\n",
       "10    182795\n",
       "11    170910\n",
       "12    156508\n",
       "13    108249\n",
       "14     65225\n",
       "15     42905\n",
       "Name: Revenue (millions), dtype: int64"
      ]
     },
     "execution_count": 6,
     "metadata": {},
     "output_type": "execute_result"
    }
   ],
   "source": [
    "#now that we have elimated the $ we still have to change the type of this data to an int \n",
    "clean_df['Revenue (millions)'] = clean_df['Revenue (millions)'].astype(int) \n",
    "\n",
    "clean_df['Revenue (millions)']"
   ]
  },
  {
   "cell_type": "code",
   "execution_count": 7,
   "metadata": {},
   "outputs": [
    {
     "data": {
      "text/plain": [
       "<Axes: xlabel='year', ylabel='Revenue (millions)'>"
      ]
     },
     "execution_count": 7,
     "metadata": {},
     "output_type": "execute_result"
    },
    {
     "data": {
      "image/png": "[encoded data removed]",
      "text/plain": [
       "<Figure size 640x480 with 1 Axes>"
      ]
     },
     "metadata": {},
     "output_type": "display_data"
    }
   ],
   "source": [
    "# now the type displays as an int lets plot this data\n",
    "sns.lineplot(data = clean_df,\n",
    "x = clean_df['year'],\n",
    "y = clean_df['Revenue (millions)']\n",
    "\n",
    ")\n",
    "#epic"
   ]
  }
 ],
 "metadata": {
  "kernelspec": {
   "display_name": "myenv",
   "language": "python",
   "name": "python3"
  },
  "language_info": {
   "codemirror_mode": {
    "name": "ipython",
    "version": 3
   },
   "file_extension": ".py",
   "mimetype": "text/x-python",
   "name": "python",
   "nbconvert_exporter": "python",
   "pygments_lexer": "ipython3",
   "version": "3.12.6"
  }
 },
 "nbformat": 4,
 "nbformat_minor": 2
}
